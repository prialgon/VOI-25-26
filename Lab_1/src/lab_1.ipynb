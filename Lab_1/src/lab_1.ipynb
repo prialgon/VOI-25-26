{
 "cells": [
  {
   "cell_type": "markdown",
   "id": "ec3e6b7c",
   "metadata": {},
   "source": [
    "# **Sesión 1:** Introducción a OpenCV y Espacios de color ⚙️🖼️ "
   ]
  },
  {
   "cell_type": "markdown",
   "id": "50bf56a9",
   "metadata": {},
   "source": [
    "## 0. Preparación"
   ]
  },
  {
   "cell_type": "code",
   "execution_count": 1,
   "id": "089402ed",
   "metadata": {
    "ExecuteTime": {
     "end_time": "2025-09-11T06:48:13.991657Z",
     "start_time": "2025-09-11T06:48:13.654946Z"
    }
   },
   "outputs": [],
   "source": [
    "import cv2, numpy as np, matplotlib.pyplot as plt\n",
    "import os\n",
    "import cv2\n",
    "import imageio\n",
    "import numpy as np\n",
    "from typing import List\n",
    "from utils import get_hsv_color_ranges\n",
    "import glob"
   ]
  },
  {
   "cell_type": "markdown",
   "id": "393dca865cf8ccb0",
   "metadata": {},
   "source": [
    "## **Apartado A: Uso basico de funciones de OpenCV**\n",
    "\n"
   ]
  },
  {
   "cell_type": "markdown",
   "id": "d1aacfa06dcfcad2",
   "metadata": {},
   "source": [
    "El objetivo de este apartado es aprender a usar funcionalidades basica sobre el uso de OpenCV, para ello se hara uso de las imágenes en la carpeta ``data``.\n",
    "\n",
    "1. **Tarea A.1**. Cargar una imagen ``cv2.imread()``.\n",
    "2. **Tarea A.2.** Visualizar una imagen ``cv2.imshow()``.\n",
    "3. **Tarea A.3.** Conversion de imagen de color a escala de grises ``cv2.cvtColor()``.\n",
    "4. **Tarea A.4.** Cambia el tamaño de una imagen ``cv2.resize()`` a 200x200 píxeles.\n",
    "5. **Tarea A.5.** Recorta el centro de la imagen a un tamaño 120x160.\n",
    "6. **Tarea A.6.** Rota la imagen ``cv2.getRotationMatrix2D`` ``cv2.wrapAffine()``.\n",
    "7. **Tarea A.7.** Guarda la imagen ``cv2.imwrite()``."
   ]
  },
  {
   "cell_type": "markdown",
   "id": "18f2e2aa9e8c45aa",
   "metadata": {},
   "source": [
    "### **Tarea A.1:** Cargar una imagen con ``cv2.imread()``"
   ]
  },
  {
   "cell_type": "code",
   "execution_count": 14,
   "id": "d337724dd357a6e0",
   "metadata": {},
   "outputs": [],
   "source": [
    "# TODO: Load an image from disk using cv2.imread('path/to/image.jpg').\n",
    "img = cv2.imread(\"..\\\\data\\\\000.jpg\")"
   ]
  },
  {
   "cell_type": "markdown",
   "id": "2ef9d272bf6cec28",
   "metadata": {},
   "source": [
    "### **Tarea A.2:** Visualizar la imagen con ``cv2.imshow()``\n"
   ]
  },
  {
   "cell_type": "code",
   "execution_count": 18,
   "id": "8449775c8089f122",
   "metadata": {},
   "outputs": [],
   "source": [
    "# TODO: Display the image using cv2.imshow().\n",
    "cv2.imshow(\"colour_clownfish\", img)\n",
    "cv2.waitKey()\n",
    "cv2.destroyAllWindows()"
   ]
  },
  {
   "cell_type": "markdown",
   "id": "c6be3dae4c5bbb1",
   "metadata": {},
   "source": [
    "### **Tarea A.3:** Conversion de imagen de color a escala de grises ``cv2.cvtColor()``."
   ]
  },
  {
   "cell_type": "code",
   "execution_count": 32,
   "id": "85083cde91a203ee",
   "metadata": {},
   "outputs": [
    {
     "name": "stdout",
     "output_type": "stream",
     "text": [
      "Color shape: (184, 275, 3)\n",
      "Gray shape: (184, 275)\n"
     ]
    }
   ],
   "source": [
    "# TODO: Convert the image from color to grayscale using cv2.cvtColor().\n",
    "gray = cv2.cvtColor(img, cv2.COLOR_BGR2GRAY)\n",
    "# TODO: Check image shape → grayscale: (height, width), color: (height, width, channels).\n",
    "print(\"Color shape:\", img.shape)\n",
    "print(\"Gray shape:\", gray.shape)\n",
    "# TODO: Display the image using cv2.imshow().\n",
    "cv2.imshow(\"grayscale_clownfish\", gray)\n",
    "cv2.waitKey()\n",
    "cv2.destroyAllWindows()"
   ]
  },
  {
   "cell_type": "markdown",
   "id": "5fb789a6bcc4af81",
   "metadata": {},
   "source": [
    "### **Tarea A.4:** Cambia el tamaño de una imagen ``cv2.resize()`` a 200x200 píxeles."
   ]
  },
  {
   "cell_type": "code",
   "execution_count": 34,
   "id": "c25362b95caf714f",
   "metadata": {},
   "outputs": [
    {
     "name": "stdout",
     "output_type": "stream",
     "text": [
      "Resized shape: Ellipsis\n"
     ]
    }
   ],
   "source": [
    "# TODO: Resize the image to 200×200 pixels using cv2.resize().\n",
    "resized = cv2.resize(img, (200, 200))\n",
    "# TODO: Check the image shape\n",
    "print(\"Resized shape:\", ...)\n",
    "# TODO: Display the image using cv2.imshow().\n",
    "cv2.imshow(\"resized_clownfish\", resized)\n",
    "cv2.waitKey()\n",
    "cv2.destroyAllWindows()"
   ]
  },
  {
   "cell_type": "markdown",
   "id": "fb1f226141ff4ed1",
   "metadata": {},
   "source": [
    "### **Tarea A.5:** Recorta el centro de la imagen a un tamaño 120x160."
   ]
  },
  {
   "cell_type": "code",
   "execution_count": null,
   "id": "9014bedf726a13f",
   "metadata": {},
   "outputs": [
    {
     "name": "stdout",
     "output_type": "stream",
     "text": [
      "ROI shape: (120, 160, 3)\n"
     ]
    }
   ],
   "source": [
    "# TODO: # TODO: Crop the center of the image 'img' with an approximate size of 120x160 pixels.\n",
    "h, w = img.shape[0], img.shape[1]\n",
    "cy, cx = h//2, w//2\n",
    "roi = img[cy-60:cy+60, cx-80:cx+80]\n",
    "# TODO: Check the image shape\n",
    "print(\"ROI shape:\", roi.shape)\n",
    "# TODO: Display the image using cv2.imshow().\n",
    "cv2.imshow(\"roi_clownfish\", roi)\n",
    "cv2.waitKey()\n",
    "cv2.destroyAllWindows()"
   ]
  },
  {
   "cell_type": "markdown",
   "id": "d2dcb76fd085926d",
   "metadata": {},
   "source": [
    "### **Tarea A.6:** Rota la imagen usando ``cv2.getRotationMatrix2D`` y ``cv2.wrapAffine()``."
   ]
  },
  {
   "cell_type": "code",
   "execution_count": 43,
   "id": "51579071e1c78df5",
   "metadata": {},
   "outputs": [],
   "source": [
    "# TODO: Rotate around the center using cv2.getRotationMatrix2D and cv2.warpAffine.\n",
    "M = cv2.getRotationMatrix2D((cy,cx), 45, 0.5)\n",
    "rotated = cv2.warpAffine(img, M, (200, 200))\n",
    "# TODO: Display the image using cv2.imshow().\n",
    "cv2.imshow(\"rotated_clownfish\", rotated)\n",
    "cv2.waitKey()\n",
    "cv2.destroyAllWindows()"
   ]
  },
  {
   "cell_type": "markdown",
   "id": "446f4b20c45da514",
   "metadata": {},
   "source": [
    "### **Tarea A.7:** Guarda la imagen con ``cv2.imwrite()``"
   ]
  },
  {
   "cell_type": "code",
   "execution_count": 44,
   "id": "d2cb3e20daaef247",
   "metadata": {},
   "outputs": [
    {
     "data": {
      "text/plain": [
       "True"
      ]
     },
     "execution_count": 44,
     "metadata": {},
     "output_type": "execute_result"
    }
   ],
   "source": [
    "# TODO: Save the image to disk as 'salida_opcionA_1.png' using cv2.imwrite().\n",
    "cv2.imwrite(\"../data/salida_opcionA_1.png\", rotated)"
   ]
  },
  {
   "cell_type": "markdown",
   "id": "f27dd4e2",
   "metadata": {},
   "source": [
    "## **Apartado B: Segmentación por color**"
   ]
  },
  {
   "cell_type": "markdown",
   "id": "346b9745",
   "metadata": {},
   "source": [
    "El objetivo de este apartado es segmentar los colores naranja y blanco de las imágenes en la carpeta ``data``.\n",
    "\n",
    "1. **Tarea B.1**. Defina y ejecute el método para cargar imágenes ``load_imgs()``.\n",
    "2. **Tarea B.2.** Defina los métodos ``show_image()`` y ``write_image()`` para visualizar y guardar imágenes.\n",
    "3. **Tarea B.3.** Cambia el espacio de color de las imágenes a uno donde la crominancia y la intensidad estén separados (HSV).\n",
    "4. **Tarea B.4.** Segmenta los colores anaranjados.\n",
    "5. **Tarea B.5.** Segmenta los colores blancos.\n",
    "6. **Tarea B.6.** Junta las máscaras para cada imagen (naranja + blanco) y segmenta cada una de ellas.\n",
    "7. **Tarea B.7.** Guarda las imágenes.\n"
   ]
  },
  {
   "cell_type": "markdown",
   "id": "f0bfa42b",
   "metadata": {},
   "source": [
    "### **Tarea B.1:** Defina y ejecute el método para cargar imágenes ``load_images()``"
   ]
  },
  {
   "cell_type": "code",
   "execution_count": 2,
   "id": "cb90c169",
   "metadata": {},
   "outputs": [],
   "source": [
    "def load_images(filenames: List) -> List:\n",
    "    return [cv2.imread(filename) for filename in filenames]"
   ]
  },
  {
   "cell_type": "code",
   "execution_count": 15,
   "id": "e9511ad8",
   "metadata": {},
   "outputs": [],
   "source": [
    "# TODO Build a list containing the paths of all images in the data folder\n",
    "imgs_path = ['../data/' + i for i in os.listdir(\"../data\")]\n",
    "imgs = load_images(imgs_path)"
   ]
  },
  {
   "cell_type": "markdown",
   "id": "059344e8",
   "metadata": {},
   "source": [
    "### **Tarea B.2**. Defina los métodos ``show_image()`` y ``write_image()`` para visualizar y guardar imágenes"
   ]
  },
  {
   "cell_type": "code",
   "execution_count": 6,
   "id": "5773cb22",
   "metadata": {},
   "outputs": [],
   "source": [
    "# TODO Complete the method, use every argument\n",
    "def show_image(img: np.array, img_name: str = \"Image\"):\n",
    "    cv2.imshow(img_name, img)\n",
    "    cv2.waitKey()\n",
    "    cv2.destroyAllWindows()\n",
    "\n",
    "# TODO Complete the method, use every argument\n",
    "def write_image(output_folder: str, img_name: str, img: np.array):\n",
    "    img_path = os.path.join(output_folder, img_name)\n",
    "    cv2.imwrite(img_path, img)"
   ]
  },
  {
   "cell_type": "markdown",
   "id": "7937eb87",
   "metadata": {},
   "source": [
    "### **Tarea B.3:** Cambie el espacio de color de las imágenes a uno donde la crominancia y la intensidad estén separados (HSV)"
   ]
  },
  {
   "cell_type": "code",
   "execution_count": 17,
   "id": "20c33992",
   "metadata": {},
   "outputs": [],
   "source": [
    "# TODO Get a list with ìmgs in HSV color space\n",
    "hsv_imgs = [cv2.cvtColor(img, cv2.COLOR_BGR2HSV) for img in imgs]"
   ]
  },
  {
   "cell_type": "markdown",
   "id": "1882be73",
   "metadata": {},
   "source": [
    "### **Tarea B.4:** Segmente los colores anaranjados"
   ]
  },
  {
   "cell_type": "code",
   "execution_count": null,
   "id": "4fee44ea",
   "metadata": {},
   "outputs": [],
   "source": [
    "# TODO Define orange color range\n",
    "light_orange = (1, 190, 200)\n",
    "dark_orange = (255, 255, 255)\n",
    "\n",
    "# TODO Compute a list that contains a mask (which should segment orange colors) for every image.\n",
    "orange_masks = [cv2.inRange(img, light_orange, dark_orange) for img in hsv_imgs]\n",
    "\n",
    "# TODO Compute a list that contains the result of multiplying the original image with its orange colors mask.\n",
    "orange_segmented = [cv2.bitwise_and(zipped[0], zipped[0], mask=zipped[1]) for zipped in zip(imgs, orange_masks)]\n",
    "\n",
    "# TODO Show an original image\n",
    "show_image(imgs[0])\n",
    "\n",
    "# TODO Show a mask\n",
    "show_image(orange_masks[0])\n",
    "\n",
    "# TODO Show a segmented image\n",
    "show_image(orange_segmented[0])"
   ]
  },
  {
   "cell_type": "markdown",
   "id": "12e26e47",
   "metadata": {},
   "source": [
    "### **Tarea B.5:** Segmente los colores blancos."
   ]
  },
  {
   "cell_type": "markdown",
   "id": "a0283e8c",
   "metadata": {},
   "source": [
    "Para detectar el rango de blancos complete la siguiente celda y ejecutela para investigar el rango de valores necesarios."
   ]
  },
  {
   "cell_type": "code",
   "execution_count": 65,
   "id": "9a5e1c1a",
   "metadata": {},
   "outputs": [],
   "source": [
    "# TODO Discover white color ranges\n",
    "# get_hsv_color_ranges(imgs[3])\n",
    "\n",
    "\n",
    "# TODO Define white color range\n",
    "light_white = (0, 0, 165)\n",
    "dark_white = (255, 105, 255)\n",
    "\n",
    "# TODO Compute a list that contains a mask (which should segment white colors) for every image.\n",
    "white_masks = [cv2.inRange(img, light_white, dark_white)\n",
    "                for img in hsv_imgs]\n",
    "\n",
    "# TODO Compute a list that contains the result of multiplying the original image with its white colors mask.\n",
    "white_segmented = [cv2.bitwise_and(\n",
    "    zipped[0], zipped[0], mask=zipped[1]) for zipped in zip(imgs, white_masks)]\n",
    "\n",
    "# TODO Show an original image\n",
    "show_image(imgs[0])\n",
    "\n",
    "# TODO Show a mask\n",
    "show_image(white_masks[0])\n",
    "\n",
    "# TODO Show a segmented image\n",
    "show_image(white_segmented[0])"
   ]
  },
  {
   "cell_type": "markdown",
   "id": "a2c7153e",
   "metadata": {},
   "source": [
    "### **Tarea B.6:** Junte las máscaras para cada imagen (naranja + blanco) y segmente cada una de ellas."
   ]
  },
  {
   "cell_type": "code",
   "execution_count": null,
   "id": "7288c4c1",
   "metadata": {},
   "outputs": [],
   "source": [
    "# TODO Join orange_masks and white_masks\n",
    "fish_masks = None\n",
    "    \n",
    "# TODO Compute a list that contains the result of multiplying the original image with its complete mask.\n",
    "fish = cv2.bitwise_and()\n",
    "\n",
    "# TODO Show an original image\n",
    "show_image()\n",
    "\n",
    "# TODO Show a mask\n",
    "show_image()\n",
    "\n",
    "# TODO Show a segmented image\n",
    "show_image()"
   ]
  },
  {
   "cell_type": "markdown",
   "id": "dd5f5cc4",
   "metadata": {},
   "source": [
    "### **Tarea B.7:** Guarde las imágenes"
   ]
  },
  {
   "cell_type": "code",
   "execution_count": null,
   "id": "03982169",
   "metadata": {},
   "outputs": [],
   "source": [
    "# TODO Define your output folder and save every fish image\n",
    "output_folder = None\n",
    "write_image(output_folder=None, img_name=None, img=None)"
   ]
  },
  {
   "cell_type": "markdown",
   "id": "efa0dbf1",
   "metadata": {},
   "source": [
    "m### **Pregunta B.1:** Segmente por color el logotipo de su marca favorita: descompóngalo en al menos 3 colores."
   ]
  },
  {
   "cell_type": "code",
   "execution_count": null,
   "id": "fa4ff07d",
   "metadata": {},
   "outputs": [],
   "source": [
    "# TODO Homework"
   ]
  },
  {
   "cell_type": "markdown",
   "id": "9427b159",
   "metadata": {},
   "source": [
    "### **Pregunta B.2:** ¿Qué ocurre si carga las imágenes con la función ``imageio.read()`` y luego la muestra con el método ``show_image()``? ¿A qué se debe este comportamiento?"
   ]
  },
  {
   "cell_type": "code",
   "execution_count": null,
   "id": "af3ae60c",
   "metadata": {},
   "outputs": [],
   "source": [
    "def load_images(filenames: List) -> List:\n",
    "    return [imageio.imread(filename) for filename in filenames]\n",
    "\n",
    "# TODO Homework: Load images\n",
    "question_imgs = load_images(None)\n",
    "\n",
    "\n",
    "# TODO Homework: Show it\n",
    "show_image(None)"
   ]
  }
 ],
 "metadata": {
  "kernelspec": {
   "display_name": "voi-lab",
   "language": "python",
   "name": "python3"
  },
  "language_info": {
   "codemirror_mode": {
    "name": "ipython",
    "version": 3
   },
   "file_extension": ".py",
   "mimetype": "text/x-python",
   "name": "python",
   "nbconvert_exporter": "python",
   "pygments_lexer": "ipython3",
   "version": "3.9.21"
  }
 },
 "nbformat": 4,
 "nbformat_minor": 5
}
