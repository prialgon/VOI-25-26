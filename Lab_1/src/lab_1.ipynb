{
 "cells": [
  {
   "cell_type": "markdown",
   "id": "ec3e6b7c",
   "metadata": {},
   "source": [
    "# **Sesión 1:** Introducción a OpenCV y Espacios de color ⚙️🖼️ "
   ]
  },
  {
   "cell_type": "markdown",
   "id": "50bf56a9",
   "metadata": {},
   "source": [
    "## 0. Preparación"
   ]
  },
  {
   "cell_type": "code",
   "execution_count": 1,
   "id": "089402ed",
   "metadata": {
    "ExecuteTime": {
     "end_time": "2025-09-11T06:48:13.991657Z",
     "start_time": "2025-09-11T06:48:13.654946Z"
    }
   },
   "outputs": [],
   "source": [
    "import cv2, numpy as np, matplotlib.pyplot as plt\n",
    "import os\n",
    "import cv2\n",
    "import imageio\n",
    "import numpy as np\n",
    "from typing import List\n",
    "from utils import get_hsv_color_ranges\n",
    "import glob"
   ]
  },
  {
   "cell_type": "markdown",
   "id": "393dca865cf8ccb0",
   "metadata": {},
   "source": [
    "## **Apartado A: Uso basico de funciones de OpenCV**\n",
    "\n"
   ]
  },
  {
   "cell_type": "markdown",
   "id": "d1aacfa06dcfcad2",
   "metadata": {},
   "source": [
    "El objetivo de este apartado es aprender a usar funcionalidades basica sobre el uso de OpenCV, para ello se hara uso de las imágenes en la carpeta ``data``.\n",
    "\n",
    "1. **Tarea A.1**. Cargar una imagen ``cv2.imread()``.\n",
    "2. **Tarea A.2.** Visualizar una imagen ``cv2.imshow()``.\n",
    "3. **Tarea A.3.** Conversion de imagen de color a escala de grises ``cv2.cvtColor()``.\n",
    "4. **Tarea A.4.** Cambia el tamaño de una imagen ``cv2.resize()`` a 200x200 píxeles.\n",
    "5. **Tarea A.5.** Recorta el centro de la imagen a un tamaño 120x160.\n",
    "6. **Tarea A.6.** Rota la imagen ``cv2.getRotationMatrix2D`` ``cv2.wrapAffine()``.\n",
    "7. **Tarea A.7.** Guarda la imagen ``cv2.imwrite()``."
   ]
  },
  {
   "cell_type": "markdown",
   "id": "18f2e2aa9e8c45aa",
   "metadata": {},
   "source": [
    "### **Tarea A.1:** Cargar una imagen con ``cv2.imread()``"
   ]
  },
  {
   "cell_type": "code",
   "execution_count": 2,
   "id": "d337724dd357a6e0",
   "metadata": {},
   "outputs": [],
   "source": [
    "# TODO: Load an image from disk using cv2.imread('path/to/image.jpg').\n",
    "img = ..."
   ]
  },
  {
   "cell_type": "markdown",
   "id": "2ef9d272bf6cec28",
   "metadata": {},
   "source": [
    "### **Tarea A.2:** Visualizar la imagen con ``cv2.imshow()``\n"
   ]
  },
  {
   "cell_type": "code",
   "execution_count": 3,
   "id": "8449775c8089f122",
   "metadata": {},
   "outputs": [
    {
     "ename": "error",
     "evalue": "OpenCV(4.8.0) :-1: error: (-5:Bad argument) in function 'imshow'\n> Overload resolution failed:\n>  - imshow() missing required argument 'winname' (pos 1)\n>  - imshow() missing required argument 'winname' (pos 1)\n>  - imshow() missing required argument 'winname' (pos 1)\n",
     "output_type": "error",
     "traceback": [
      "\u001b[1;31m---------------------------------------------------------------------------\u001b[0m",
      "\u001b[1;31merror\u001b[0m                                     Traceback (most recent call last)",
      "Cell \u001b[1;32mIn[3], line 2\u001b[0m\n\u001b[0;32m      1\u001b[0m \u001b[38;5;66;03m# TODO: Display the image using cv2.imshow().\u001b[39;00m\n\u001b[1;32m----> 2\u001b[0m \u001b[43mcv2\u001b[49m\u001b[38;5;241;43m.\u001b[39;49m\u001b[43mimshow\u001b[49m\u001b[43m(\u001b[49m\u001b[43m)\u001b[49m\n\u001b[0;32m      3\u001b[0m cv2\u001b[38;5;241m.\u001b[39mwaitKey()\n\u001b[0;32m      4\u001b[0m cv2\u001b[38;5;241m.\u001b[39mdestroyAllWindows()\n",
      "\u001b[1;31merror\u001b[0m: OpenCV(4.8.0) :-1: error: (-5:Bad argument) in function 'imshow'\n> Overload resolution failed:\n>  - imshow() missing required argument 'winname' (pos 1)\n>  - imshow() missing required argument 'winname' (pos 1)\n>  - imshow() missing required argument 'winname' (pos 1)\n"
     ]
    }
   ],
   "source": [
    "# TODO: Display the image using cv2.imshow().\n",
    "cv2.imshow()\n",
    "cv2.waitKey()\n",
    "cv2.destroyAllWindows()"
   ]
  },
  {
   "cell_type": "markdown",
   "id": "c6be3dae4c5bbb1",
   "metadata": {},
   "source": [
    "### **Tarea A.3:** Conversion de imagen de color a escala de grises ``cv2.cvtColor()``."
   ]
  },
  {
   "cell_type": "code",
   "execution_count": null,
   "id": "85083cde91a203ee",
   "metadata": {},
   "outputs": [],
   "source": [
    "# TODO: Convert the image from color to grayscale using cv2.cvtColor().\n",
    "gray = ...\n",
    "# TODO: Check image shape → grayscale: (height, width), color: (height, width, channels).\n",
    "print(\"Color shape:\", ...)\n",
    "print(\"Gray shape:\", ...)\n",
    "# TODO: Display the image using cv2.imshow().\n",
    "cv2.imshow()\n",
    "cv2.waitKey()\n",
    "cv2.destroyAllWindows()"
   ]
  },
  {
   "cell_type": "markdown",
   "id": "5fb789a6bcc4af81",
   "metadata": {},
   "source": [
    "### **Tarea A.4:** Cambia el tamaño de una imagen ``cv2.resize()`` a 200x200 píxeles."
   ]
  },
  {
   "cell_type": "code",
   "execution_count": null,
   "id": "c25362b95caf714f",
   "metadata": {},
   "outputs": [],
   "source": [
    "# TODO: Resize the image to 200×200 pixels using cv2.resize().\n",
    "resized = cv2.resize()\n",
    "# TODO: Check the image shape\n",
    "print(\"Resized shape:\", ...)\n",
    "# TODO: Display the image using cv2.imshow().\n",
    "cv2.imshow()\n",
    "cv2.waitKey()\n",
    "cv2.destroyAllWindows()"
   ]
  },
  {
   "cell_type": "markdown",
   "id": "fb1f226141ff4ed1",
   "metadata": {},
   "source": [
    "### **Tarea A.5:** Recorta el centro de la imagen a un tamaño 120x160."
   ]
  },
  {
   "cell_type": "code",
   "execution_count": null,
   "id": "9014bedf726a13f",
   "metadata": {},
   "outputs": [],
   "source": [
    "# TODO: # TODO: Crop the center of the image 'img' with an approximate size of 120x160 pixels.\n",
    "h, w = ...\n",
    "cy, cx = ..., ...\n",
    "roi = img[..., ...]\n",
    "# TODO: Check the image shape\n",
    "print(\"ROI shape:\", ...)\n",
    "# TODO: Display the image using cv2.imshow().\n",
    "cv2.imshow()\n",
    "cv2.waitKey()\n",
    "cv2.destroyAllWindows()"
   ]
  },
  {
   "cell_type": "markdown",
   "id": "d2dcb76fd085926d",
   "metadata": {},
   "source": [
    "### **Tarea A.6:** Rota la imagen usando ``cv2.getRotationMatrix2D`` y ``cv2.wrapAffine()``."
   ]
  },
  {
   "cell_type": "code",
   "execution_count": null,
   "id": "51579071e1c78df5",
   "metadata": {},
   "outputs": [],
   "source": [
    "# TODO: Rotate around the center using cv2.getRotationMatrix2D and cv2.warpAffine.\n",
    "M = cv2.getRotationMatrix2D()\n",
    "rotated = cv2.warpAffine()\n",
    "# TODO: Display the image using cv2.imshow().\n",
    "cv2.imshow()\n",
    "cv2.waitKey()\n",
    "cv2.destroyAllWindows()"
   ]
  },
  {
   "cell_type": "markdown",
   "id": "446f4b20c45da514",
   "metadata": {},
   "source": [
    "### **Tarea A.7:** Guarda la imagen con ``cv2.imwrite()``"
   ]
  },
  {
   "cell_type": "code",
   "execution_count": null,
   "id": "d2cb3e20daaef247",
   "metadata": {},
   "outputs": [],
   "source": [
    "# TODO: Save the image to disk as 'salida_opcionA_1.png' using cv2.imwrite().\n",
    "cv2.imwrite()"
   ]
  },
  {
   "cell_type": "markdown",
   "id": "f27dd4e2",
   "metadata": {},
   "source": [
    "## **Apartado B: Segmentación por color**"
   ]
  },
  {
   "cell_type": "markdown",
   "id": "346b9745",
   "metadata": {},
   "source": [
    "El objetivo de este apartado es segmentar los colores naranja y blanco de las imágenes en la carpeta ``data``.\n",
    "\n",
    "1. **Tarea B.1**. Defina y ejecute el método para cargar imágenes ``load_imgs()``.\n",
    "2. **Tarea B.2.** Defina los métodos ``show_image()`` y ``write_image()`` para visualizar y guardar imágenes.\n",
    "3. **Tarea B.3.** Cambia el espacio de color de las imágenes a uno donde la crominancia y la intensidad estén separados (HSV).\n",
    "4. **Tarea B.4.** Segmenta los colores anaranjados.\n",
    "5. **Tarea B.5.** Segmenta los colores blancos.\n",
    "6. **Tarea B.6.** Junta las máscaras para cada imagen (naranja + blanco) y segmenta cada una de ellas.\n",
    "7. **Tarea B.7.** Guarda las imágenes.\n"
   ]
  },
  {
   "cell_type": "markdown",
   "id": "f0bfa42b",
   "metadata": {},
   "source": [
    "### **Tarea B.1:** Defina y ejecute el método para cargar imágenes ``load_images()``"
   ]
  },
  {
   "cell_type": "code",
   "execution_count": null,
   "id": "cb90c169",
   "metadata": {},
   "outputs": [],
   "source": [
    "def load_images(filenames: List) -> List:\n",
    "    return [cv2.imread(filename) for filename in filenames]"
   ]
  },
  {
   "cell_type": "code",
   "execution_count": null,
   "id": "e9511ad8",
   "metadata": {},
   "outputs": [],
   "source": [
    "# TODO Build a list containing the paths of all images in the data folder\n",
    "imgs_path = []\n",
    "imgs = load_images(imgs_path)"
   ]
  },
  {
   "cell_type": "markdown",
   "id": "059344e8",
   "metadata": {},
   "source": [
    "### **Tarea B.2**. Defina los métodos ``show_image()`` y ``write_image()`` para visualizar y guardar imágenes"
   ]
  },
  {
   "cell_type": "code",
   "execution_count": null,
   "id": "5773cb22",
   "metadata": {},
   "outputs": [],
   "source": [
    "# TODO Complete the method, use every argument\n",
    "def show_image(img: np.array, img_name: str = \"Image\"):\n",
    "    cv2.imshow()\n",
    "    cv2.waitKey()\n",
    "    cv2.destroyAllWindows()\n",
    "\n",
    "# TODO Complete the method, use every argument\n",
    "def write_image(output_folder: str, img_name: str, img: np.array):\n",
    "    img_path = os.path.join()\n",
    "    cv2.imwrite()"
   ]
  },
  {
   "cell_type": "markdown",
   "id": "7937eb87",
   "metadata": {},
   "source": [
    "### **Tarea B.3:** Cambie el espacio de color de las imágenes a uno donde la crominancia y la intensidad estén separados (HSV)"
   ]
  },
  {
   "cell_type": "code",
   "execution_count": null,
   "id": "20c33992",
   "metadata": {},
   "outputs": [],
   "source": [
    "# TODO Get a list with ìmgs in HSV color space\n",
    "hsv_imgs = cv2.cvtColor()"
   ]
  },
  {
   "cell_type": "markdown",
   "id": "1882be73",
   "metadata": {},
   "source": [
    "### **Tarea B.4:** Segmente los colores anaranjados"
   ]
  },
  {
   "cell_type": "code",
   "execution_count": null,
   "id": "4fee44ea",
   "metadata": {},
   "outputs": [],
   "source": [
    "# TODO Define orange color range\n",
    "light_orange = (None, None, None)\n",
    "dark_orange = (None, None, None)\n",
    "\n",
    "# TODO Compute a list that contains a mask (which should segment orange colors) for every image.\n",
    "orange_masks = cv2.inRange()\n",
    "\n",
    "# TODO Compute a list that contains the result of multiplying the original image with its orange colors mask.\n",
    "orange_segmented = cv2.bitwise_and()\n",
    "\n",
    "# TODO Show an original image\n",
    "show_image()\n",
    "\n",
    "# TODO Show a mask\n",
    "show_image()\n",
    "\n",
    "# TODO Show a segmented image\n",
    "show_image()"
   ]
  },
  {
   "cell_type": "markdown",
   "id": "12e26e47",
   "metadata": {},
   "source": [
    "### **Tarea B.5:** Segmente los colores blancos."
   ]
  },
  {
   "cell_type": "markdown",
   "id": "a0283e8c",
   "metadata": {},
   "source": [
    "Para detectar el rango de blancos complete la siguiente celda y ejecutela para investigar el rango de valores necesarios."
   ]
  },
  {
   "cell_type": "code",
   "execution_count": null,
   "id": "9a5e1c1a",
   "metadata": {},
   "outputs": [],
   "source": [
    "# TODO Discover white color ranges\n",
    "get_hsv_color_ranges(None)\n",
    "\n",
    "# TODO Define white color range\n",
    "light_white = (None, None, None)\n",
    "dark_white = (None, None, None)\n",
    "\n",
    "# TODO Compute a list that contains a mask (which should segment white colors) for every image.\n",
    "white_masks = cv2.inRange()\n",
    "\n",
    "# TODO Compute a list that contains the result of multiplying the original image with its white colors mask.\n",
    "white_segmented = cv2.bitwise_and()\n",
    "\n",
    "# TODO Show an original image\n",
    "show_image()\n",
    "\n",
    "# TODO Show a mask\n",
    "show_image()\n",
    "\n",
    "# TODO Show a segmented image\n",
    "show_image()"
   ]
  },
  {
   "cell_type": "markdown",
   "id": "a2c7153e",
   "metadata": {},
   "source": [
    "### **Tarea B.6:** Junte las máscaras para cada imagen (naranja + blanco) y segmente cada una de ellas."
   ]
  },
  {
   "cell_type": "code",
   "execution_count": null,
   "id": "7288c4c1",
   "metadata": {},
   "outputs": [],
   "source": [
    "# TODO Join orange_masks and white_masks\n",
    "fish_masks = None\n",
    "    \n",
    "# TODO Compute a list that contains the result of multiplying the original image with its complete mask.\n",
    "fish = cv2.bitwise_and()\n",
    "\n",
    "# TODO Show an original image\n",
    "show_image()\n",
    "\n",
    "# TODO Show a mask\n",
    "show_image()\n",
    "\n",
    "# TODO Show a segmented image\n",
    "show_image()"
   ]
  },
  {
   "cell_type": "markdown",
   "id": "dd5f5cc4",
   "metadata": {},
   "source": [
    "### **Tarea B.7:** Guarde las imágenes"
   ]
  },
  {
   "cell_type": "code",
   "execution_count": null,
   "id": "03982169",
   "metadata": {},
   "outputs": [],
   "source": [
    "# TODO Define your output folder and save every fish image\n",
    "output_folder = None\n",
    "write_image(output_folder=None, img_name=None, img=None)"
   ]
  },
  {
   "cell_type": "markdown",
   "id": "efa0dbf1",
   "metadata": {},
   "source": [
    "m### **Pregunta B.1:** Segmente por color el logotipo de su marca favorita: descompóngalo en al menos 3 colores."
   ]
  },
  {
   "cell_type": "code",
   "execution_count": null,
   "id": "fa4ff07d",
   "metadata": {},
   "outputs": [],
   "source": [
    "# TODO Homework"
   ]
  },
  {
   "cell_type": "markdown",
   "id": "9427b159",
   "metadata": {},
   "source": [
    "### **Pregunta B.2:** ¿Qué ocurre si carga las imágenes con la función ``imageio.read()`` y luego la muestra con el método ``show_image()``? ¿A qué se debe este comportamiento?"
   ]
  },
  {
   "cell_type": "code",
   "execution_count": null,
   "id": "af3ae60c",
   "metadata": {},
   "outputs": [],
   "source": [
    "def load_images(filenames: List) -> List:\n",
    "    return [imageio.imread(filename) for filename in filenames]\n",
    "\n",
    "# TODO Homework: Load images\n",
    "question_imgs = load_images(None)\n",
    "\n",
    "\n",
    "# TODO Homework: Show it\n",
    "show_image(None)"
   ]
  }
 ],
 "metadata": {
  "kernelspec": {
   "display_name": "voi-lab",
   "language": "python",
   "name": "python3"
  },
  "language_info": {
   "codemirror_mode": {
    "name": "ipython",
    "version": 3
   },
   "file_extension": ".py",
   "mimetype": "text/x-python",
   "name": "python",
   "nbconvert_exporter": "python",
   "pygments_lexer": "ipython3",
   "version": "3.9.21"
  }
 },
 "nbformat": 4,
 "nbformat_minor": 5
}
